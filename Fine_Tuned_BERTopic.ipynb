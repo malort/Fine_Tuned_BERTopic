{
 "cells": [
  {
   "cell_type": "code",
   "execution_count": 1,
   "id": "a2ff8781-4a83-4291-a034-15aa9db73368",
   "metadata": {},
   "outputs": [],
   "source": [
    "import nltk\n",
    "import pandas as pd\n",
    "import re\n",
    "import string\n",
    "import matplotlib.pyplot as plt\n",
    "import umap\n",
    "import hdbscan\n",
    "from nltk.stem import WordNetLemmatizer\n",
    "from nltk.tokenize import word_tokenize\n",
    "from nltk.corpus import stopwords\n",
    "from nltk import download\n",
    "from bertopic import BERTopic\n",
    "from sklearn.feature_extraction.text import CountVectorizer\n",
    "from sentence_transformers import SentenceTransformer"
   ]
  },
  {
   "cell_type": "code",
   "execution_count": 2,
   "id": "b7d05d49-998e-4e4f-a99a-c1a13284c80d",
   "metadata": {},
   "outputs": [
    {
     "name": "stderr",
     "output_type": "stream",
     "text": [
      "[nltk_data] Downloading package punkt to /home/studio-lab-\n",
      "[nltk_data]     user/nltk_data...\n",
      "[nltk_data]   Package punkt is already up-to-date!\n",
      "[nltk_data] Downloading package stopwords to /home/studio-lab-\n",
      "[nltk_data]     user/nltk_data...\n",
      "[nltk_data]   Package stopwords is already up-to-date!\n",
      "[nltk_data] Downloading package wordnet to /home/studio-lab-\n",
      "[nltk_data]     user/nltk_data...\n",
      "[nltk_data]   Package wordnet is already up-to-date!\n",
      "[nltk_data] Downloading package omw-1.4 to /home/studio-lab-\n",
      "[nltk_data]     user/nltk_data...\n",
      "[nltk_data]   Package omw-1.4 is already up-to-date!\n"
     ]
    },
    {
     "data": {
      "text/plain": [
       "True"
      ]
     },
     "execution_count": 2,
     "metadata": {},
     "output_type": "execute_result"
    }
   ],
   "source": [
    "nltk.download('punkt')\n",
    "nltk.download('stopwords')\n",
    "nltk.download('wordnet')\n",
    "nltk.download('omw-1.4')"
   ]
  },
  {
   "cell_type": "code",
   "execution_count": 3,
   "id": "cbc96f15-48b3-4991-9590-9c7c7502786a",
   "metadata": {},
   "outputs": [],
   "source": [
    "df = pd.read_csv(\"Womens Clothing E-Commerce Reviews.csv\")"
   ]
  },
  {
   "cell_type": "code",
   "execution_count": 4,
   "id": "8fedffa1-883e-499f-9be4-eed2e9812b97",
   "metadata": {},
   "outputs": [
    {
     "data": {
      "text/html": [
       "<div>\n",
       "<style scoped>\n",
       "    .dataframe tbody tr th:only-of-type {\n",
       "        vertical-align: middle;\n",
       "    }\n",
       "\n",
       "    .dataframe tbody tr th {\n",
       "        vertical-align: top;\n",
       "    }\n",
       "\n",
       "    .dataframe thead th {\n",
       "        text-align: right;\n",
       "    }\n",
       "</style>\n",
       "<table border=\"1\" class=\"dataframe\">\n",
       "  <thead>\n",
       "    <tr style=\"text-align: right;\">\n",
       "      <th></th>\n",
       "      <th>Unnamed: 0</th>\n",
       "      <th>Clothing ID</th>\n",
       "      <th>Age</th>\n",
       "      <th>Title</th>\n",
       "      <th>Review Text</th>\n",
       "      <th>Rating</th>\n",
       "      <th>Recommended IND</th>\n",
       "      <th>Positive Feedback Count</th>\n",
       "      <th>Division Name</th>\n",
       "      <th>Department Name</th>\n",
       "      <th>Class Name</th>\n",
       "    </tr>\n",
       "  </thead>\n",
       "  <tbody>\n",
       "    <tr>\n",
       "      <th>0</th>\n",
       "      <td>0</td>\n",
       "      <td>767</td>\n",
       "      <td>33</td>\n",
       "      <td>NaN</td>\n",
       "      <td>Absolutely wonderful - silky and sexy and comf...</td>\n",
       "      <td>4</td>\n",
       "      <td>1</td>\n",
       "      <td>0</td>\n",
       "      <td>Initmates</td>\n",
       "      <td>Intimate</td>\n",
       "      <td>Intimates</td>\n",
       "    </tr>\n",
       "    <tr>\n",
       "      <th>1</th>\n",
       "      <td>1</td>\n",
       "      <td>1080</td>\n",
       "      <td>34</td>\n",
       "      <td>NaN</td>\n",
       "      <td>Love this dress!  it's sooo pretty.  i happene...</td>\n",
       "      <td>5</td>\n",
       "      <td>1</td>\n",
       "      <td>4</td>\n",
       "      <td>General</td>\n",
       "      <td>Dresses</td>\n",
       "      <td>Dresses</td>\n",
       "    </tr>\n",
       "    <tr>\n",
       "      <th>2</th>\n",
       "      <td>2</td>\n",
       "      <td>1077</td>\n",
       "      <td>60</td>\n",
       "      <td>Some major design flaws</td>\n",
       "      <td>I had such high hopes for this dress and reall...</td>\n",
       "      <td>3</td>\n",
       "      <td>0</td>\n",
       "      <td>0</td>\n",
       "      <td>General</td>\n",
       "      <td>Dresses</td>\n",
       "      <td>Dresses</td>\n",
       "    </tr>\n",
       "    <tr>\n",
       "      <th>3</th>\n",
       "      <td>3</td>\n",
       "      <td>1049</td>\n",
       "      <td>50</td>\n",
       "      <td>My favorite buy!</td>\n",
       "      <td>I love, love, love this jumpsuit. it's fun, fl...</td>\n",
       "      <td>5</td>\n",
       "      <td>1</td>\n",
       "      <td>0</td>\n",
       "      <td>General Petite</td>\n",
       "      <td>Bottoms</td>\n",
       "      <td>Pants</td>\n",
       "    </tr>\n",
       "    <tr>\n",
       "      <th>4</th>\n",
       "      <td>4</td>\n",
       "      <td>847</td>\n",
       "      <td>47</td>\n",
       "      <td>Flattering shirt</td>\n",
       "      <td>This shirt is very flattering to all due to th...</td>\n",
       "      <td>5</td>\n",
       "      <td>1</td>\n",
       "      <td>6</td>\n",
       "      <td>General</td>\n",
       "      <td>Tops</td>\n",
       "      <td>Blouses</td>\n",
       "    </tr>\n",
       "  </tbody>\n",
       "</table>\n",
       "</div>"
      ],
      "text/plain": [
       "   Unnamed: 0  Clothing ID  Age                    Title  \\\n",
       "0           0          767   33                      NaN   \n",
       "1           1         1080   34                      NaN   \n",
       "2           2         1077   60  Some major design flaws   \n",
       "3           3         1049   50         My favorite buy!   \n",
       "4           4          847   47         Flattering shirt   \n",
       "\n",
       "                                         Review Text  Rating  Recommended IND  \\\n",
       "0  Absolutely wonderful - silky and sexy and comf...       4                1   \n",
       "1  Love this dress!  it's sooo pretty.  i happene...       5                1   \n",
       "2  I had such high hopes for this dress and reall...       3                0   \n",
       "3  I love, love, love this jumpsuit. it's fun, fl...       5                1   \n",
       "4  This shirt is very flattering to all due to th...       5                1   \n",
       "\n",
       "   Positive Feedback Count   Division Name Department Name Class Name  \n",
       "0                        0       Initmates        Intimate  Intimates  \n",
       "1                        4         General         Dresses    Dresses  \n",
       "2                        0         General         Dresses    Dresses  \n",
       "3                        0  General Petite         Bottoms      Pants  \n",
       "4                        6         General            Tops    Blouses  "
      ]
     },
     "execution_count": 4,
     "metadata": {},
     "output_type": "execute_result"
    }
   ],
   "source": [
    "df.head()"
   ]
  },
  {
   "cell_type": "code",
   "execution_count": 5,
   "id": "d0e938e6-bf73-4031-9b79-3db88a0f4d7d",
   "metadata": {},
   "outputs": [
    {
     "name": "stdout",
     "output_type": "stream",
     "text": [
      "<class 'pandas.core.frame.DataFrame'>\n",
      "RangeIndex: 23486 entries, 0 to 23485\n",
      "Data columns (total 11 columns):\n",
      " #   Column                   Non-Null Count  Dtype \n",
      "---  ------                   --------------  ----- \n",
      " 0   Unnamed: 0               23486 non-null  int64 \n",
      " 1   Clothing ID              23486 non-null  int64 \n",
      " 2   Age                      23486 non-null  int64 \n",
      " 3   Title                    19676 non-null  object\n",
      " 4   Review Text              22641 non-null  object\n",
      " 5   Rating                   23486 non-null  int64 \n",
      " 6   Recommended IND          23486 non-null  int64 \n",
      " 7   Positive Feedback Count  23486 non-null  int64 \n",
      " 8   Division Name            23472 non-null  object\n",
      " 9   Department Name          23472 non-null  object\n",
      " 10  Class Name               23472 non-null  object\n",
      "dtypes: int64(6), object(5)\n",
      "memory usage: 2.0+ MB\n"
     ]
    }
   ],
   "source": [
    "df.info()"
   ]
  },
  {
   "cell_type": "code",
   "execution_count": 6,
   "id": "7838a5f7-2374-4689-8816-7622c67d45bb",
   "metadata": {},
   "outputs": [
    {
     "data": {
      "text/plain": [
       "(23486, 11)"
      ]
     },
     "execution_count": 6,
     "metadata": {},
     "output_type": "execute_result"
    }
   ],
   "source": [
    "df.shape"
   ]
  },
  {
   "cell_type": "code",
   "execution_count": 7,
   "id": "2f6d726e-9698-4ae5-9ea1-0344ea9dd6b2",
   "metadata": {},
   "outputs": [],
   "source": [
    "df = df.dropna().drop_duplicates()"
   ]
  },
  {
   "cell_type": "code",
   "execution_count": 8,
   "id": "807faeea-f3fc-4e11-ac8b-2e53e984a99e",
   "metadata": {},
   "outputs": [
    {
     "data": {
      "text/plain": [
       "(19662, 11)"
      ]
     },
     "execution_count": 8,
     "metadata": {},
     "output_type": "execute_result"
    }
   ],
   "source": [
    "df.shape"
   ]
  },
  {
   "cell_type": "code",
   "execution_count": 9,
   "id": "73e3c59f-1ac3-4b53-a886-67d6ea788de5",
   "metadata": {},
   "outputs": [],
   "source": [
    "df = df.reset_index(drop=True)"
   ]
  },
  {
   "cell_type": "code",
   "execution_count": 10,
   "id": "3ade2644-a129-43e0-8199-9e2251543f92",
   "metadata": {},
   "outputs": [
    {
     "data": {
      "text/plain": [
       "Division Name\n",
       "General           11664\n",
       "General Petite     6778\n",
       "Initmates          1220\n",
       "Name: count, dtype: int64"
      ]
     },
     "execution_count": 10,
     "metadata": {},
     "output_type": "execute_result"
    }
   ],
   "source": [
    "df['Division Name'].value_counts()"
   ]
  },
  {
   "cell_type": "code",
   "execution_count": 11,
   "id": "d2630c4c-7216-493a-afbb-aeb83ccf6bd8",
   "metadata": {},
   "outputs": [
    {
     "data": {
      "text/plain": [
       "Department Name\n",
       "Tops        8713\n",
       "Dresses     5371\n",
       "Bottoms     3184\n",
       "Intimate    1408\n",
       "Jackets      879\n",
       "Trend        107\n",
       "Name: count, dtype: int64"
      ]
     },
     "execution_count": 11,
     "metadata": {},
     "output_type": "execute_result"
    }
   ],
   "source": [
    "df['Department Name'].value_counts()"
   ]
  },
  {
   "cell_type": "markdown",
   "id": "386d6c93-5d52-457e-bca8-6fa17272e08b",
   "metadata": {},
   "source": [
    "### Preprocess Text"
   ]
  },
  {
   "cell_type": "code",
   "execution_count": 12,
   "id": "4a35d366-f574-4a7e-b612-4a9dee90b0c7",
   "metadata": {},
   "outputs": [],
   "source": [
    "def clean_text(text):\n",
    "    # Tokenize the text\n",
    "    tokenized_text = word_tokenize(text)\n",
    "\n",
    "    # Remove punctuation\n",
    "    tokenized_text = [word for word in tokenized_text if word not in string.punctuation]\n",
    "\n",
    "    # Remove stopwords\n",
    "    stop_words = set(stopwords.words('english'))\n",
    "    tokenized_text = [word for word in tokenized_text if word not in stop_words]\n",
    "    \n",
    "    # Remove tokens that are too short\n",
    "    tokenized_text = [word for word in tokenized_text if len(word) >= 2]\n",
    "\n",
    "   # Lemmatize the text\n",
    "    lemmatizer = WordNetLemmatizer()\n",
    "    tokenized_text = [lemmatizer.lemmatize(word) for word in tokenized_text]\n",
    "\n",
    "    # Join the words into a single string\n",
    "    cleaned_text = ' '.join(tokenized_text)\n",
    "    \n",
    "    return cleaned_text"
   ]
  },
  {
   "cell_type": "code",
   "execution_count": 13,
   "id": "84d35a5a-243f-4401-831a-9a54500ac423",
   "metadata": {},
   "outputs": [
    {
     "data": {
      "text/plain": [
       "\"I love, love, love this jumpsuit. it's fun, flirty, and fabulous! every time i wear it, i get nothing but great compliments!\""
      ]
     },
     "execution_count": 13,
     "metadata": {},
     "output_type": "execute_result"
    }
   ],
   "source": [
    "df['Review Text'][1]"
   ]
  },
  {
   "cell_type": "code",
   "execution_count": 14,
   "id": "91703dce-289d-4e2a-b517-70c3b4088f3b",
   "metadata": {},
   "outputs": [],
   "source": [
    "df['toks'] = df['Review Text'].apply(clean_text)"
   ]
  },
  {
   "cell_type": "markdown",
   "id": "5dff3208-9757-4eb3-96f0-e694c1f6b283",
   "metadata": {},
   "source": [
    "### Bertopic Default"
   ]
  },
  {
   "cell_type": "code",
   "execution_count": 16,
   "id": "b718eea3-df50-4bac-a226-055c6973c13a",
   "metadata": {},
   "outputs": [],
   "source": [
    "vectorizer_model = CountVectorizer(ngram_range=(1, 2), stop_words=\"english\")"
   ]
  },
  {
   "cell_type": "code",
   "execution_count": 17,
   "id": "d12139f8-ca04-4585-b003-bd3651aa95d3",
   "metadata": {},
   "outputs": [],
   "source": [
    "model = BERTopic(\n",
    "    vectorizer_model=vectorizer_model,\n",
    "    language='english', calculate_probabilities=True,\n",
    "    verbose=True\n",
    ")"
   ]
  },
  {
   "cell_type": "code",
   "execution_count": 18,
   "id": "dc315938-0c77-42b0-8ebf-6b704827164f",
   "metadata": {},
   "outputs": [
    {
     "data": {
      "application/vnd.jupyter.widget-view+json": {
       "model_id": "ec8b28e659a94409a6e4ca749c386f88",
       "version_major": 2,
       "version_minor": 0
      },
      "text/plain": [
       "Batches:   0%|          | 0/615 [00:00<?, ?it/s]"
      ]
     },
     "metadata": {},
     "output_type": "display_data"
    },
    {
     "name": "stderr",
     "output_type": "stream",
     "text": [
      "2024-02-26 17:16:09,584 - BERTopic - Transformed documents to Embeddings\n",
      "2024-02-26 17:16:52,637 - BERTopic - Reduced dimensionality\n"
     ]
    },
    {
     "name": "stdout",
     "output_type": "stream",
     "text": [
      "huggingface/tokenizers: The current process just got forked, after parallelism has already been used. Disabling parallelism to avoid deadlocks...\n",
      "To disable this warning, you can either:\n",
      "\t- Avoid using `tokenizers` before the fork if possible\n",
      "\t- Explicitly set the environment variable TOKENIZERS_PARALLELISM=(true | false)\n",
      "huggingface/tokenizers: The current process just got forked, after parallelism has already been used. Disabling parallelism to avoid deadlocks...\n",
      "To disable this warning, you can either:\n",
      "\t- Avoid using `tokenizers` before the fork if possible\n",
      "\t- Explicitly set the environment variable TOKENIZERS_PARALLELISM=(true | false)\n",
      "huggingface/tokenizers: The current process just got forked, after parallelism has already been used. Disabling parallelism to avoid deadlocks...\n",
      "To disable this warning, you can either:\n",
      "\t- Avoid using `tokenizers` before the fork if possible\n",
      "\t- Explicitly set the environment variable TOKENIZERS_PARALLELISM=(true | false)\n",
      "huggingface/tokenizers: The current process just got forked, after parallelism has already been used. Disabling parallelism to avoid deadlocks...\n",
      "To disable this warning, you can either:\n",
      "\t- Avoid using `tokenizers` before the fork if possible\n",
      "\t- Explicitly set the environment variable TOKENIZERS_PARALLELISM=(true | false)\n",
      "huggingface/tokenizers: The current process just got forked, after parallelism has already been used. Disabling parallelism to avoid deadlocks...\n",
      "To disable this warning, you can either:\n",
      "\t- Avoid using `tokenizers` before the fork if possible\n",
      "\t- Explicitly set the environment variable TOKENIZERS_PARALLELISM=(true | false)\n",
      "huggingface/tokenizers: The current process just got forked, after parallelism has already been used. Disabling parallelism to avoid deadlocks...\n",
      "To disable this warning, you can either:\n",
      "\t- Avoid using `tokenizers` before the fork if possible\n",
      "\t- Explicitly set the environment variable TOKENIZERS_PARALLELISM=(true | false)\n"
     ]
    },
    {
     "name": "stderr",
     "output_type": "stream",
     "text": [
      "2024-02-26 17:17:04,805 - BERTopic - Clustered reduced embeddings\n"
     ]
    }
   ],
   "source": [
    "topics, probs = model.fit_transform(df['toks'])"
   ]
  },
  {
   "cell_type": "code",
   "execution_count": 19,
   "id": "7bb76022-b1f3-40b9-a21a-27d394d836d9",
   "metadata": {},
   "outputs": [
    {
     "data": {
      "text/html": [
       "<div>\n",
       "<style scoped>\n",
       "    .dataframe tbody tr th:only-of-type {\n",
       "        vertical-align: middle;\n",
       "    }\n",
       "\n",
       "    .dataframe tbody tr th {\n",
       "        vertical-align: top;\n",
       "    }\n",
       "\n",
       "    .dataframe thead th {\n",
       "        text-align: right;\n",
       "    }\n",
       "</style>\n",
       "<table border=\"1\" class=\"dataframe\">\n",
       "  <thead>\n",
       "    <tr style=\"text-align: right;\">\n",
       "      <th></th>\n",
       "      <th>Topic</th>\n",
       "      <th>Count</th>\n",
       "      <th>Name</th>\n",
       "      <th>Representation</th>\n",
       "      <th>Representative_Docs</th>\n",
       "    </tr>\n",
       "  </thead>\n",
       "  <tbody>\n",
       "    <tr>\n",
       "      <th>0</th>\n",
       "      <td>-1</td>\n",
       "      <td>8963</td>\n",
       "      <td>-1_dress_fit_size_nt</td>\n",
       "      <td>[dress, fit, size, nt, love, color, look, like...</td>\n",
       "      <td>[This dress beautiful love collar tie neck det...</td>\n",
       "    </tr>\n",
       "    <tr>\n",
       "      <th>1</th>\n",
       "      <td>0</td>\n",
       "      <td>1175</td>\n",
       "      <td>0_sweater_love sweater_itchy_soft</td>\n",
       "      <td>[sweater, love sweater, itchy, soft, sleeve, c...</td>\n",
       "      <td>[This sweater look heavy online bit thin sweat...</td>\n",
       "    </tr>\n",
       "    <tr>\n",
       "      <th>2</th>\n",
       "      <td>1</td>\n",
       "      <td>1073</td>\n",
       "      <td>1_shirt_tshirt_love shirt_love</td>\n",
       "      <td>[shirt, tshirt, love shirt, love, nt, fit, sof...</td>\n",
       "      <td>[love t-shirt moss green color wanted cute fit...</td>\n",
       "    </tr>\n",
       "    <tr>\n",
       "      <th>3</th>\n",
       "      <td>2</td>\n",
       "      <td>763</td>\n",
       "      <td>2_skirt_love skirt_waist_size</td>\n",
       "      <td>[skirt, love skirt, waist, size, great, fit, l...</td>\n",
       "      <td>[love skirt unique flattering clothes like ski...</td>\n",
       "    </tr>\n",
       "    <tr>\n",
       "      <th>4</th>\n",
       "      <td>3</td>\n",
       "      <td>607</td>\n",
       "      <td>3_jean_pair_stretch_ag</td>\n",
       "      <td>[jean, pair, stretch, ag, denim, pilcro, fit, ...</td>\n",
       "      <td>[Purchased jean 27 usually 28 skinny jean got ...</td>\n",
       "    </tr>\n",
       "    <tr>\n",
       "      <th>5</th>\n",
       "      <td>4</td>\n",
       "      <td>531</td>\n",
       "      <td>4_blouse_love blouse_size_fit</td>\n",
       "      <td>[blouse, love blouse, size, fit, nt, look, fab...</td>\n",
       "      <td>[This blouse run large billow slightly hang bo...</td>\n",
       "    </tr>\n",
       "    <tr>\n",
       "      <th>6</th>\n",
       "      <td>5</td>\n",
       "      <td>500</td>\n",
       "      <td>5_jacket_coat_love jacket_small</td>\n",
       "      <td>[jacket, coat, love jacket, small, medium, war...</td>\n",
       "      <td>[Saw hanging store cute front back flattering ...</td>\n",
       "    </tr>\n",
       "    <tr>\n",
       "      <th>7</th>\n",
       "      <td>6</td>\n",
       "      <td>480</td>\n",
       "      <td>6_dress_size_fit_lb</td>\n",
       "      <td>[dress, size, fit, lb, chest, bust, small, wai...</td>\n",
       "      <td>[This dress seems quite high quality wonderful...</td>\n",
       "    </tr>\n",
       "    <tr>\n",
       "      <th>8</th>\n",
       "      <td>7</td>\n",
       "      <td>458</td>\n",
       "      <td>7_love_cute_like_nt</td>\n",
       "      <td>[love, cute, like, nt, really, boxy, look, gre...</td>\n",
       "      <td>[disagree previous review saying top unflatter...</td>\n",
       "    </tr>\n",
       "    <tr>\n",
       "      <th>9</th>\n",
       "      <td>8</td>\n",
       "      <td>374</td>\n",
       "      <td>8_dress_size_run_large</td>\n",
       "      <td>[dress, size, run, large, small, dress run, we...</td>\n",
       "      <td>[This dress absolutely stunning color vibrant ...</td>\n",
       "    </tr>\n",
       "  </tbody>\n",
       "</table>\n",
       "</div>"
      ],
      "text/plain": [
       "   Topic  Count                               Name  \\\n",
       "0     -1   8963               -1_dress_fit_size_nt   \n",
       "1      0   1175  0_sweater_love sweater_itchy_soft   \n",
       "2      1   1073     1_shirt_tshirt_love shirt_love   \n",
       "3      2    763      2_skirt_love skirt_waist_size   \n",
       "4      3    607             3_jean_pair_stretch_ag   \n",
       "5      4    531      4_blouse_love blouse_size_fit   \n",
       "6      5    500    5_jacket_coat_love jacket_small   \n",
       "7      6    480                6_dress_size_fit_lb   \n",
       "8      7    458                7_love_cute_like_nt   \n",
       "9      8    374             8_dress_size_run_large   \n",
       "\n",
       "                                      Representation  \\\n",
       "0  [dress, fit, size, nt, love, color, look, like...   \n",
       "1  [sweater, love sweater, itchy, soft, sleeve, c...   \n",
       "2  [shirt, tshirt, love shirt, love, nt, fit, sof...   \n",
       "3  [skirt, love skirt, waist, size, great, fit, l...   \n",
       "4  [jean, pair, stretch, ag, denim, pilcro, fit, ...   \n",
       "5  [blouse, love blouse, size, fit, nt, look, fab...   \n",
       "6  [jacket, coat, love jacket, small, medium, war...   \n",
       "7  [dress, size, fit, lb, chest, bust, small, wai...   \n",
       "8  [love, cute, like, nt, really, boxy, look, gre...   \n",
       "9  [dress, size, run, large, small, dress run, we...   \n",
       "\n",
       "                                 Representative_Docs  \n",
       "0  [This dress beautiful love collar tie neck det...  \n",
       "1  [This sweater look heavy online bit thin sweat...  \n",
       "2  [love t-shirt moss green color wanted cute fit...  \n",
       "3  [love skirt unique flattering clothes like ski...  \n",
       "4  [Purchased jean 27 usually 28 skinny jean got ...  \n",
       "5  [This blouse run large billow slightly hang bo...  \n",
       "6  [Saw hanging store cute front back flattering ...  \n",
       "7  [This dress seems quite high quality wonderful...  \n",
       "8  [disagree previous review saying top unflatter...  \n",
       "9  [This dress absolutely stunning color vibrant ...  "
      ]
     },
     "execution_count": 19,
     "metadata": {},
     "output_type": "execute_result"
    }
   ],
   "source": [
    "freq = model.get_topic_info()\n",
    "freq.head(10)"
   ]
  },
  {
   "cell_type": "code",
   "execution_count": 20,
   "id": "0187f442-95c6-4f03-ad5e-94328aaa5316",
   "metadata": {},
   "outputs": [
    {
     "name": "stdout",
     "output_type": "stream",
     "text": [
      "Number of topics: 98\n"
     ]
    }
   ],
   "source": [
    "freq_df = model.get_topic_info()\n",
    "print(\"Number of topics: {}\".format( len(freq_df)))"
   ]
  },
  {
   "cell_type": "code",
   "execution_count": 21,
   "id": "ae2b647f-0cdc-47f0-9707-595d70615425",
   "metadata": {},
   "outputs": [],
   "source": [
    "# to get visualizations\n",
    "import plotly.io as pio\n",
    "pio.renderers.default='iframe'"
   ]
  },
  {
   "cell_type": "code",
   "execution_count": 22,
   "id": "8f57822e-534c-4f42-8473-b733d66aa246",
   "metadata": {},
   "outputs": [
    {
     "data": {
      "text/html": [
       "<iframe\n",
       "    scrolling=\"no\"\n",
       "    width=\"1020px\"\n",
       "    height=\"520\"\n",
       "    src=\"iframe_figures/figure_22.html\"\n",
       "    frameborder=\"0\"\n",
       "    allowfullscreen\n",
       "></iframe>\n"
      ]
     },
     "metadata": {},
     "output_type": "display_data"
    }
   ],
   "source": [
    "model.visualize_barchart()"
   ]
  },
  {
   "cell_type": "markdown",
   "id": "fa9437cc-6b5e-483e-8e5a-783a8d3c9b20",
   "metadata": {},
   "source": [
    "### FINE TUNNING BERTOPIC"
   ]
  },
  {
   "cell_type": "markdown",
   "id": "98a54a6b-22b8-476f-8480-43414e2e7bd5",
   "metadata": {},
   "source": [
    "#### Transformer Embedding"
   ]
  },
  {
   "cell_type": "code",
   "execution_count": 20,
   "id": "b370a10d-daf0-427d-9d47-e5f136faee5e",
   "metadata": {},
   "outputs": [],
   "source": [
    "embedding_model = SentenceTransformer(\"all-MiniLM-L6-v2\")"
   ]
  },
  {
   "cell_type": "code",
   "execution_count": 21,
   "id": "b9f07546-d1e3-4852-bd51-f42e9565b27f",
   "metadata": {},
   "outputs": [
    {
     "data": {
      "text/plain": [
       "SentenceTransformer(\n",
       "  (0): Transformer({'max_seq_length': 256, 'do_lower_case': False}) with Transformer model: BertModel \n",
       "  (1): Pooling({'word_embedding_dimension': 384, 'pooling_mode_cls_token': False, 'pooling_mode_mean_tokens': True, 'pooling_mode_max_tokens': False, 'pooling_mode_mean_sqrt_len_tokens': False})\n",
       "  (2): Normalize()\n",
       ")"
      ]
     },
     "execution_count": 21,
     "metadata": {},
     "output_type": "execute_result"
    }
   ],
   "source": [
    "embedding_model"
   ]
  },
  {
   "cell_type": "code",
   "execution_count": 22,
   "id": "77ca110f-1bb4-47fa-92f6-ca11e50d901f",
   "metadata": {},
   "outputs": [],
   "source": [
    "sentences_list = df['toks'].tolist()"
   ]
  },
  {
   "cell_type": "code",
   "execution_count": 23,
   "id": "00d6b7a1-a95a-4c6e-998b-b2a8612d78b9",
   "metadata": {},
   "outputs": [],
   "source": [
    "embeds = embedding_model.encode(sentences_list)"
   ]
  },
  {
   "cell_type": "markdown",
   "id": "8cfe684a-23fa-4617-9848-ec2be41a50e2",
   "metadata": {},
   "source": [
    "### Dimensionality Reduction UMAP"
   ]
  },
  {
   "cell_type": "code",
   "execution_count": 24,
   "id": "8423180c-7e6b-4fb2-99be-f6344600bba4",
   "metadata": {},
   "outputs": [],
   "source": [
    "fit = umap.UMAP(n_neighbors=3, n_components=3, min_dist=0.05)  \n",
    "u = fit.fit_transform(embeds)"
   ]
  },
  {
   "cell_type": "code",
   "execution_count": 30,
   "id": "e7dc1f6a-cfcd-47c1-952b-bc33cf053e5a",
   "metadata": {},
   "outputs": [
    {
     "name": "stderr",
     "output_type": "stream",
     "text": [
      "/home/studio-lab-user/.conda/envs/default/lib/python3.9/site-packages/matplotlib/collections.py:981: RuntimeWarning:\n",
      "\n",
      "invalid value encountered in sqrt\n",
      "\n"
     ]
    },
    {
     "data": {
      "image/png": "[encoded data removed]",
      "text/plain": [
       "<Figure size 800x800 with 1 Axes>"
      ]
     },
     "metadata": {},
     "output_type": "display_data"
    }
   ],
   "source": [
    "plt.figure(figsize=(8,8)) # Increase figure size\n",
    "plt.scatter(u[:, 0], u[:, 1], u[:, 2])\n",
    "plt.title('UMAP projection of sentence embeddings')\n",
    "plt.show()"
   ]
  },
  {
   "cell_type": "markdown",
   "id": "ac8ced74-634d-4951-a5f9-58686dc77563",
   "metadata": {},
   "source": [
    "### HDBSCAN CLUSTERING"
   ]
  },
  {
   "cell_type": "code",
   "execution_count": 32,
   "id": "8b4d3435-8e9a-4d80-8ee6-79df4dba7956",
   "metadata": {},
   "outputs": [
    {
     "data": {
      "text/html": [
       "<style>#sk-container-id-1 {color: black;background-color: white;}#sk-container-id-1 pre{padding: 0;}#sk-container-id-1 div.sk-toggleable {background-color: white;}#sk-container-id-1 label.sk-toggleable__label {cursor: pointer;display: block;width: 100%;margin-bottom: 0;padding: 0.3em;box-sizing: border-box;text-align: center;}#sk-container-id-1 label.sk-toggleable__label-arrow:before {content: \"▸\";float: left;margin-right: 0.25em;color: #696969;}#sk-container-id-1 label.sk-toggleable__label-arrow:hover:before {color: black;}#sk-container-id-1 div.sk-estimator:hover label.sk-toggleable__label-arrow:before {color: black;}#sk-container-id-1 div.sk-toggleable__content {max-height: 0;max-width: 0;overflow: hidden;text-align: left;background-color: #f0f8ff;}#sk-container-id-1 div.sk-toggleable__content pre {margin: 0.2em;color: black;border-radius: 0.25em;background-color: #f0f8ff;}#sk-container-id-1 input.sk-toggleable__control:checked~div.sk-toggleable__content {max-height: 200px;max-width: 100%;overflow: auto;}#sk-container-id-1 input.sk-toggleable__control:checked~label.sk-toggleable__label-arrow:before {content: \"▾\";}#sk-container-id-1 div.sk-estimator input.sk-toggleable__control:checked~label.sk-toggleable__label {background-color: #d4ebff;}#sk-container-id-1 div.sk-label input.sk-toggleable__control:checked~label.sk-toggleable__label {background-color: #d4ebff;}#sk-container-id-1 input.sk-hidden--visually {border: 0;clip: rect(1px 1px 1px 1px);clip: rect(1px, 1px, 1px, 1px);height: 1px;margin: -1px;overflow: hidden;padding: 0;position: absolute;width: 1px;}#sk-container-id-1 div.sk-estimator {font-family: monospace;background-color: #f0f8ff;border: 1px dotted black;border-radius: 0.25em;box-sizing: border-box;margin-bottom: 0.5em;}#sk-container-id-1 div.sk-estimator:hover {background-color: #d4ebff;}#sk-container-id-1 div.sk-parallel-item::after {content: \"\";width: 100%;border-bottom: 1px solid gray;flex-grow: 1;}#sk-container-id-1 div.sk-label:hover label.sk-toggleable__label {background-color: #d4ebff;}#sk-container-id-1 div.sk-serial::before {content: \"\";position: absolute;border-left: 1px solid gray;box-sizing: border-box;top: 0;bottom: 0;left: 50%;z-index: 0;}#sk-container-id-1 div.sk-serial {display: flex;flex-direction: column;align-items: center;background-color: white;padding-right: 0.2em;padding-left: 0.2em;position: relative;}#sk-container-id-1 div.sk-item {position: relative;z-index: 1;}#sk-container-id-1 div.sk-parallel {display: flex;align-items: stretch;justify-content: center;background-color: white;position: relative;}#sk-container-id-1 div.sk-item::before, #sk-container-id-1 div.sk-parallel-item::before {content: \"\";position: absolute;border-left: 1px solid gray;box-sizing: border-box;top: 0;bottom: 0;left: 50%;z-index: -1;}#sk-container-id-1 div.sk-parallel-item {display: flex;flex-direction: column;z-index: 1;position: relative;background-color: white;}#sk-container-id-1 div.sk-parallel-item:first-child::after {align-self: flex-end;width: 50%;}#sk-container-id-1 div.sk-parallel-item:last-child::after {align-self: flex-start;width: 50%;}#sk-container-id-1 div.sk-parallel-item:only-child::after {width: 0;}#sk-container-id-1 div.sk-dashed-wrapped {border: 1px dashed gray;margin: 0 0.4em 0.5em 0.4em;box-sizing: border-box;padding-bottom: 0.4em;background-color: white;}#sk-container-id-1 div.sk-label label {font-family: monospace;font-weight: bold;display: inline-block;line-height: 1.2em;}#sk-container-id-1 div.sk-label-container {text-align: center;}#sk-container-id-1 div.sk-container {/* jupyter's `normalize.less` sets `[hidden] { display: none; }` but bootstrap.min.css set `[hidden] { display: none !important; }` so we also need the `!important` here to be able to override the default hidden behavior on the sphinx rendered scikit-learn.org. See: https://github.com/scikit-learn/scikit-learn/issues/21755 */display: inline-block !important;position: relative;}#sk-container-id-1 div.sk-text-repr-fallback {display: none;}</style><div id=\"sk-container-id-1\" class=\"sk-top-container\"><div class=\"sk-text-repr-fallback\"><pre>HDBSCAN(gen_min_span_tree=True, min_cluster_size=500, min_samples=300)</pre><b>In a Jupyter environment, please rerun this cell to show the HTML representation or trust the notebook. <br />On GitHub, the HTML representation is unable to render, please try loading this page with nbviewer.org.</b></div><div class=\"sk-container\" hidden><div class=\"sk-item\"><div class=\"sk-estimator sk-toggleable\"><input class=\"sk-toggleable__control sk-hidden--visually\" id=\"sk-estimator-id-1\" type=\"checkbox\" checked><label for=\"sk-estimator-id-1\" class=\"sk-toggleable__label sk-toggleable__label-arrow\">HDBSCAN</label><div class=\"sk-toggleable__content\"><pre>HDBSCAN(gen_min_span_tree=True, min_cluster_size=500, min_samples=300)</pre></div></div></div></div></div>"
      ],
      "text/plain": [
       "HDBSCAN(gen_min_span_tree=True, min_cluster_size=500, min_samples=300)"
      ]
     },
     "execution_count": 32,
     "metadata": {},
     "output_type": "execute_result"
    }
   ],
   "source": [
    "clusterer = hdbscan.HDBSCAN(min_cluster_size=500, min_samples=300, gen_min_span_tree=True)\n",
    "clusterer.fit(u)"
   ]
  },
  {
   "cell_type": "code",
   "execution_count": 33,
   "id": "c307ff44-d85d-4614-b685-fe048336f215",
   "metadata": {},
   "outputs": [
    {
     "data": {
      "text/plain": [
       "<AxesSubplot:ylabel='$\\\\lambda$ value'>"
      ]
     },
     "execution_count": 33,
     "metadata": {},
     "output_type": "execute_result"
    },
    {
     "data": {
      "image/png": "[encoded data removed]",
      "text/plain": [
       "<Figure size 640x480 with 2 Axes>"
      ]
     },
     "metadata": {},
     "output_type": "display_data"
    }
   ],
   "source": [
    "clusterer.condensed_tree_.plot(select_clusters=True)"
   ]
  },
  {
   "cell_type": "code",
   "execution_count": 34,
   "id": "0e931674-9ac5-447a-a050-5b82ade403b3",
   "metadata": {},
   "outputs": [
    {
     "name": "stdout",
     "output_type": "stream",
     "text": [
      "0.20651162852539864\n"
     ]
    }
   ],
   "source": [
    "print(clusterer.relative_validity_)"
   ]
  },
  {
   "cell_type": "markdown",
   "id": "ccbdf9db-21e4-478a-a1cd-18bf6a851a75",
   "metadata": {},
   "source": [
    "### FINE TUNED BERTOPIC"
   ]
  },
  {
   "cell_type": "code",
   "execution_count": 37,
   "id": "b0bec196-fcc0-4fa0-82a7-0c69992bd944",
   "metadata": {},
   "outputs": [],
   "source": [
    "umap_model = umap.UMAP(n_components=3, n_neighbors=100, min_dist=0.05)"
   ]
  },
  {
   "cell_type": "code",
   "execution_count": 38,
   "id": "6a0084a9-d28d-4481-9667-4237dd61d3d5",
   "metadata": {},
   "outputs": [],
   "source": [
    "hdbscan_model = hdbscan.HDBSCAN(min_cluster_size=500, min_samples=300, gen_min_span_tree=True, prediction_data=True)"
   ]
  },
  {
   "cell_type": "code",
   "execution_count": 39,
   "id": "292580ff-72a7-42d4-bb34-1875b4bcfa3d",
   "metadata": {},
   "outputs": [],
   "source": [
    "model = BERTopic(\n",
    "    umap_model=umap_model,\n",
    "    hdbscan_model=hdbscan_model,\n",
    "    embedding_model=embedding_model,\n",
    "    vectorizer_model=vectorizer_model,\n",
    "    top_n_words=5,\n",
    "    language='english',\n",
    "    calculate_probabilities=True,\n",
    "    verbose=True\n",
    ")"
   ]
  },
  {
   "cell_type": "code",
   "execution_count": 40,
   "id": "42e1246f-61ec-4246-9b71-91e44597a940",
   "metadata": {},
   "outputs": [
    {
     "data": {
      "application/vnd.jupyter.widget-view+json": {
       "model_id": "751239c2d57f41a7833ef0cdc75e1f74",
       "version_major": 2,
       "version_minor": 0
      },
      "text/plain": [
       "Batches:   0%|          | 0/615 [00:00<?, ?it/s]"
      ]
     },
     "metadata": {},
     "output_type": "display_data"
    },
    {
     "name": "stderr",
     "output_type": "stream",
     "text": [
      "2024-02-26 17:24:36,589 - BERTopic - Transformed documents to Embeddings\n",
      "2024-02-26 17:25:15,673 - BERTopic - Reduced dimensionality\n",
      "2024-02-26 17:25:19,497 - BERTopic - Clustered reduced embeddings\n"
     ]
    }
   ],
   "source": [
    "topics, probs = model.fit_transform(df['toks'])"
   ]
  },
  {
   "cell_type": "code",
   "execution_count": 41,
   "id": "cd34f70a-181c-4784-b8be-6fa5ec3c0cf1",
   "metadata": {},
   "outputs": [
    {
     "data": {
      "text/html": [
       "<div>\n",
       "<style scoped>\n",
       "    .dataframe tbody tr th:only-of-type {\n",
       "        vertical-align: middle;\n",
       "    }\n",
       "\n",
       "    .dataframe tbody tr th {\n",
       "        vertical-align: top;\n",
       "    }\n",
       "\n",
       "    .dataframe thead th {\n",
       "        text-align: right;\n",
       "    }\n",
       "</style>\n",
       "<table border=\"1\" class=\"dataframe\">\n",
       "  <thead>\n",
       "    <tr style=\"text-align: right;\">\n",
       "      <th></th>\n",
       "      <th>Topic</th>\n",
       "      <th>Count</th>\n",
       "      <th>Name</th>\n",
       "      <th>Representation</th>\n",
       "      <th>Representative_Docs</th>\n",
       "    </tr>\n",
       "  </thead>\n",
       "  <tbody>\n",
       "    <tr>\n",
       "      <th>0</th>\n",
       "      <td>-1</td>\n",
       "      <td>7691</td>\n",
       "      <td>-1_size_fit_love_color</td>\n",
       "      <td>[size, fit, love, color, like]</td>\n",
       "      <td>[love way t-shirt fit horseshoe opening front ...</td>\n",
       "    </tr>\n",
       "    <tr>\n",
       "      <th>1</th>\n",
       "      <td>0</td>\n",
       "      <td>4123</td>\n",
       "      <td>0_dress_fit_size_love</td>\n",
       "      <td>[dress, fit, size, love, like]</td>\n",
       "      <td>[Love dress ... light comfortable fit true siz...</td>\n",
       "    </tr>\n",
       "    <tr>\n",
       "      <th>2</th>\n",
       "      <td>1</td>\n",
       "      <td>2216</td>\n",
       "      <td>1_love_like_fit_look</td>\n",
       "      <td>[love, like, fit, look, size]</td>\n",
       "      <td>[The material lace nice soft stiff lace '' 36d...</td>\n",
       "    </tr>\n",
       "    <tr>\n",
       "      <th>3</th>\n",
       "      <td>2</td>\n",
       "      <td>1837</td>\n",
       "      <td>2_sweater_jacket_love_coat</td>\n",
       "      <td>[sweater, jacket, love, coat, color]</td>\n",
       "      <td>[This great sweater soft beautiful 's new go s...</td>\n",
       "    </tr>\n",
       "    <tr>\n",
       "      <th>4</th>\n",
       "      <td>3</td>\n",
       "      <td>1587</td>\n",
       "      <td>3_pant_jean_fit_pair</td>\n",
       "      <td>[pant, jean, fit, pair, size]</td>\n",
       "      <td>[probably 10 pair pilcro jean pant jean skinny...</td>\n",
       "    </tr>\n",
       "    <tr>\n",
       "      <th>5</th>\n",
       "      <td>4</td>\n",
       "      <td>1084</td>\n",
       "      <td>4_shirt_love_fit_color</td>\n",
       "      <td>[shirt, love, fit, color, great]</td>\n",
       "      <td>[really fell love shirt 110 pound ordered xx g...</td>\n",
       "    </tr>\n",
       "    <tr>\n",
       "      <th>6</th>\n",
       "      <td>5</td>\n",
       "      <td>621</td>\n",
       "      <td>5_skirt_size_fit_waist</td>\n",
       "      <td>[skirt, size, fit, waist, love]</td>\n",
       "      <td>[This beautiful skirt exactly pictured color b...</td>\n",
       "    </tr>\n",
       "    <tr>\n",
       "      <th>7</th>\n",
       "      <td>6</td>\n",
       "      <td>503</td>\n",
       "      <td>6_blouse_size_fit_love</td>\n",
       "      <td>[blouse, size, fit, love, look]</td>\n",
       "      <td>[Great blouse curvy woman 'm always xl retaile...</td>\n",
       "    </tr>\n",
       "  </tbody>\n",
       "</table>\n",
       "</div>"
      ],
      "text/plain": [
       "   Topic  Count                        Name  \\\n",
       "0     -1   7691      -1_size_fit_love_color   \n",
       "1      0   4123       0_dress_fit_size_love   \n",
       "2      1   2216        1_love_like_fit_look   \n",
       "3      2   1837  2_sweater_jacket_love_coat   \n",
       "4      3   1587        3_pant_jean_fit_pair   \n",
       "5      4   1084      4_shirt_love_fit_color   \n",
       "6      5    621      5_skirt_size_fit_waist   \n",
       "7      6    503      6_blouse_size_fit_love   \n",
       "\n",
       "                         Representation  \\\n",
       "0        [size, fit, love, color, like]   \n",
       "1        [dress, fit, size, love, like]   \n",
       "2         [love, like, fit, look, size]   \n",
       "3  [sweater, jacket, love, coat, color]   \n",
       "4         [pant, jean, fit, pair, size]   \n",
       "5      [shirt, love, fit, color, great]   \n",
       "6       [skirt, size, fit, waist, love]   \n",
       "7       [blouse, size, fit, love, look]   \n",
       "\n",
       "                                 Representative_Docs  \n",
       "0  [love way t-shirt fit horseshoe opening front ...  \n",
       "1  [Love dress ... light comfortable fit true siz...  \n",
       "2  [The material lace nice soft stiff lace '' 36d...  \n",
       "3  [This great sweater soft beautiful 's new go s...  \n",
       "4  [probably 10 pair pilcro jean pant jean skinny...  \n",
       "5  [really fell love shirt 110 pound ordered xx g...  \n",
       "6  [This beautiful skirt exactly pictured color b...  \n",
       "7  [Great blouse curvy woman 'm always xl retaile...  "
      ]
     },
     "execution_count": 41,
     "metadata": {},
     "output_type": "execute_result"
    }
   ],
   "source": [
    "freq = model.get_topic_info()\n",
    "freq.head(10)"
   ]
  },
  {
   "cell_type": "code",
   "execution_count": 42,
   "id": "06a7b681-92b9-4d1c-a523-56b1c7f505ff",
   "metadata": {},
   "outputs": [
    {
     "name": "stdout",
     "output_type": "stream",
     "text": [
      "Number of topics: 8\n"
     ]
    }
   ],
   "source": [
    "freq_df = model.get_topic_info()\n",
    "print(\"Number of topics: {}\".format( len(freq_df)))"
   ]
  },
  {
   "cell_type": "code",
   "execution_count": 86,
   "id": "95238b86-82fa-4109-a028-f7b2d2112d19",
   "metadata": {},
   "outputs": [
    {
     "data": {
      "text/html": [
       "<iframe\n",
       "    scrolling=\"no\"\n",
       "    width=\"1020px\"\n",
       "    height=\"520\"\n",
       "    src=\"iframe_figures/figure_86.html\"\n",
       "    frameborder=\"0\"\n",
       "    allowfullscreen\n",
       "></iframe>\n"
      ]
     },
     "metadata": {},
     "output_type": "display_data"
    }
   ],
   "source": [
    "model.visualize_barchart()"
   ]
  },
  {
   "cell_type": "code",
   "execution_count": 87,
   "id": "ff7a1f35-d636-4c82-818c-7c245b235ca5",
   "metadata": {},
   "outputs": [
    {
     "data": {
      "text/html": [
       "<iframe\n",
       "    scrolling=\"no\"\n",
       "    width=\"670px\"\n",
       "    height=\"670\"\n",
       "    src=\"iframe_figures/figure_87.html\"\n",
       "    frameborder=\"0\"\n",
       "    allowfullscreen\n",
       "></iframe>\n"
      ]
     },
     "metadata": {},
     "output_type": "display_data"
    }
   ],
   "source": [
    "model.visualize_topics()"
   ]
  },
  {
   "cell_type": "code",
   "execution_count": 88,
   "id": "d5aacdd7-89ae-426d-aad9-2f609dd6db70",
   "metadata": {},
   "outputs": [
    {
     "data": {
      "text/html": [
       "<iframe\n",
       "    scrolling=\"no\"\n",
       "    width=\"1220px\"\n",
       "    height=\"770\"\n",
       "    src=\"iframe_figures/figure_88.html\"\n",
       "    frameborder=\"0\"\n",
       "    allowfullscreen\n",
       "></iframe>\n"
      ]
     },
     "metadata": {},
     "output_type": "display_data"
    }
   ],
   "source": [
    "model.visualize_documents(df['toks'], embeddings=embeds)"
   ]
  }
 ],
 "metadata": {
  "kernelspec": {
   "display_name": "default:Python",
   "language": "python",
   "name": "conda-env-default-py"
  },
  "language_info": {
   "codemirror_mode": {
    "name": "ipython",
    "version": 3
   },
   "file_extension": ".py",
   "mimetype": "text/x-python",
   "name": "python",
   "nbconvert_exporter": "python",
   "pygments_lexer": "ipython3",
   "version": "3.9.16"
  }
 },
 "nbformat": 4,
 "nbformat_minor": 5
}
